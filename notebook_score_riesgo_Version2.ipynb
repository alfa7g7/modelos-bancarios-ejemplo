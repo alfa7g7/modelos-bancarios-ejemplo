{
 "cells": [
  {
   "cell_type": "markdown",
   "metadata": {},
   "source": [
    "# Score de Riesgo Bancario (Credit Scoring)\n",
    "\n",
    "Notebook para calcular el score de riesgo crediticio con datos sintéticos o CSV externo."
   ]
  },
  {
   "cell_type": "markdown",
   "metadata": {},
   "source": [
    "## 1. Importar librerías"
   ]
  },
  {
   "cell_type": "code",
   "execution_count": null,
   "metadata": {},
   "outputs": [],
   "source": [
    "import numpy as np\n",
    "import pandas as pd\n",
    "import matplotlib.pyplot as plt\n",
    "from sklearn.model_selection import train_test_split, cross_val_score\n",
    "from sklearn.preprocessing import LabelEncoder, StandardScaler\n",
    "from sklearn.metrics import classification_report, confusion_matrix, roc_curve, accuracy_score\n",
    "from sklearn.linear_model import LogisticRegression\n",
    "import xgboost as xgb\n",
    "import optuna\n",
    "from optuna.samplers import TPESampler\n",
    "import os\n",
    "import psutil\n",
    "\n",
    "# Verificar que todas las librerías estén importadas correctamente\n",
    "print(\"✅ Librerías importadas correctamente:\")\n",
    "print(f\"NumPy: {np.__version__}\")\n",
    "print(f\"Pandas: {pd.__version__}\")\n",
    "print(f\"XGBoost: {xgb.__version__}\")\n",
    "print(f\"Optuna: {optuna.__version__}\")\n",
    "\n",
    "# Verificar hardware disponible\n",
    "print(f\"\\n🖥️ Hardware disponible:\")\n",
    "print(f\"CPU Cores: {psutil.cpu_count(logical=False)} físicos, {psutil.cpu_count(logical=True)} lógicos\")\n",
    "print(f\"RAM: {psutil.virtual_memory().total / (1024**3):.1f} GB\")\n",
    "print(f\"RAM disponible: {psutil.virtual_memory().available / (1024**3):.1f} GB\")\n",
    "\n",
    "# Verificar soporte GPU para XGBoost\n",
    "try:\n",
    "    import subprocess\n",
    "    result = subprocess.run(['nvidia-smi'], capture_output=True, text=True)\n",
    "    if result.returncode == 0:\n",
    "        print(\"🎮 GPU NVIDIA detectada - XGBoost puede usar GPU\")\n",
    "        GPU_AVAILABLE = True\n",
    "    else:\n",
    "        print(\"⚠️ GPU NVIDIA no detectada - usando CPU\")\n",
    "        GPU_AVAILABLE = False\n",
    "except:\n",
    "    print(\"⚠️ No se pudo verificar GPU - usando CPU\")\n",
    "    GPU_AVAILABLE = False\n",
    "\n",
    "print(\"🚀 Listo para optimización bayesiana optimizada!\")"
   ]
  },
  {
   "cell_type": "markdown",
   "metadata": {},
   "source": [
    "## 2. Cargar datos\n",
    "### A) Generar datos sintéticos"
   ]
  },
  {
   "cell_type": "code",
   "execution_count": null,
   "metadata": {},
   "outputs": [],
   "source": [
    "np.random.seed(42)\n",
    "# Generar dataset más grande aprovechando la RAM (64GB)\n",
    "n = 10000  # 10x más datos para mejor entrenamiento\n",
    "print(f\"📊 Generando dataset de score de riesgo con {n:,} registros...\")\n",
    "\n",
    "data = pd.DataFrame({\n",
    "    'historial_credito': np.random.randint(0, 10, n),  # Más rango\n",
    "    'ingresos': np.random.lognormal(8, 0.5, n),       # Distribución log-normal\n",
    "    'edad': np.random.randint(18, 80, n),             # Más rango de edad\n",
    "    'relacion_banco': np.random.randint(1, 15, n),    # Más años de relación\n",
    "    'segmento': np.random.choice(['Retail','Premium','Pyme','Empresarial'], n, p=[0.4, 0.3, 0.2, 0.1]),\n",
    "    'deuda_total': np.random.lognormal(6, 1, n),      # Deuda total\n",
    "    'productos_activos': np.random.randint(1, 8, n),  # Productos bancarios\n",
    "    'empleo_estable': np.random.binomial(1, 0.7, n),  # Empleo estable\n",
    "    'educacion': np.random.choice(['Basica','Media','Superior','Postgrado'], n, p=[0.2, 0.4, 0.3, 0.1]),\n",
    "    'vivienda': np.random.choice(['Propia','Alquilada','Familiar'], n, p=[0.5, 0.3, 0.2]),\n",
    "})\n",
    "\n",
    "# Generar variable objetivo (riesgo) más realista\n",
    "riesgo_prob = (\n",
    "    0.25 * (data['historial_credito'] < 3) +              # Mal historial\n",
    "    0.2 * (data['ingresos'] < 2000) +                     # Bajos ingresos\n",
    "    0.15 * (data['edad'] < 25) +                          # Jóvenes\n",
    "    0.1 * (data['deuda_total'] > data['ingresos'] * 0.5) + # Alto endeudamiento\n",
    "    0.1 * (data['empleo_estable'] == 0) +                 # Empleo inestable\n",
    "    0.1 * (data['productos_activos'] == 1) +              # Pocos productos\n",
    "    0.05 * (data['relacion_banco'] < 2) +                 # Poca relación bancaria\n",
    "    np.random.rand(n) * 0.05                              # Ruido aleatorio\n",
    ")\n",
    "\n",
    "data['riesgo'] = (riesgo_prob > 0.3).astype(int)\n",
    "print(f\"✅ Dataset generado: {data.shape[0]:,} filas x {data.shape[1]} columnas\")\n",
    "print(f\"📈 Tasa de riesgo: {data['riesgo'].mean():.2%}\")\n",
    "data.head()"
   ]
  },
  {
   "cell_type": "markdown",
   "metadata": {},
   "source": [
    "### B) Cargar datos desde CSV\n",
    "> Descomenta y ajusta la ruta si tienes tu propio archivo."
   ]
  },
  {
   "cell_type": "code",
   "execution_count": null,
   "metadata": {},
   "outputs": [],
   "source": [
    "# data = pd.read_csv('clientes_score.csv')\n",
    "# data.head()"
   ]
  },
  {
   "cell_type": "markdown",
   "metadata": {},
   "source": [
    "## 3. Análisis exploratorio"
   ]
  },
  {
   "cell_type": "code",
   "execution_count": null,
   "metadata": {},
   "outputs": [],
   "source": [
    "print(data['riesgo'].value_counts())\n",
    "data.describe()\n",
    "data.groupby('segmento')['riesgo'].mean().plot(kind='bar')\n",
    "plt.title('Tasa de riesgo por segmento')\n",
    "plt.ylabel('Riesgo')\n",
    "plt.show()"
   ]
  },
  {
   "cell_type": "markdown",
   "metadata": {},
   "source": [
    "## 4. Preprocesamiento"
   ]
  },
  {
   "cell_type": "code",
   "execution_count": null,
   "metadata": {},
   "outputs": [],
   "source": [
    "X = data.drop('riesgo', axis=1)\n",
    "y = data['riesgo']\n",
    "X['segmento'] = LabelEncoder().fit_transform(X['segmento'])\n",
    "scaler = StandardScaler()\n",
    "X_scaled = scaler.fit_transform(X)\n",
    "X_train, X_test, y_train, y_test = train_test_split(X_scaled, y, test_size=0.3, random_state=42)"
   ]
  },
  {
   "cell_type": "markdown",
   "metadata": {},
   "source": [
    "## 5. Modelos\n",
    "### A) Regresión Logística"
   ]
  },
  {
   "cell_type": "code",
   "execution_count": null,
   "metadata": {},
   "outputs": [],
   "source": [
    "lr = LogisticRegression(max_iter=200)\n",
    "lr.fit(X_train, y_train)\n",
    "y_pred_lr = lr.predict(X_test)\n",
    "print(classification_report(y_test, y_pred_lr))"
   ]
  },
  {
   "cell_type": "markdown",
   "metadata": {},
   "source": [
    "### B) XGBoost"
   ]
  },
  {
   "cell_type": "code",
   "execution_count": null,
   "metadata": {},
   "outputs": [],
   "source": [
    "xgb_model = xgb.XGBClassifier(use_label_encoder=False, eval_metric='logloss')\n",
    "xgb_model.fit(X_train, y_train)\n",
    "y_pred_xgb = xgb_model.predict(X_test)\n",
    "print(classification_report(y_test, y_pred_xgb))"
   ]
  },
  {
   "cell_type": "markdown",
   "metadata": {},
   "source": [
    "## 6. Evaluación y visualización"
   ]
  },
  {
   "cell_type": "code",
   "execution_count": null,
   "metadata": {},
   "outputs": [],
   "source": [
    "plt.figure(figsize=(6,3))\n",
    "plt.subplot(1,2,1)\n",
    "plt.title('Confusión LR')\n",
    "plt.imshow(confusion_matrix(y_test, y_pred_lr), cmap='Blues')\n",
    "plt.subplot(1,2,2)\n",
    "plt.title('Confusión XGBoost')\n",
    "plt.imshow(confusion_matrix(y_test, y_pred_xgb), cmap='Greens')\n",
    "plt.show()\n",
    "fpr_lr, tpr_lr, _ = roc_curve(y_test, lr.predict_proba(X_test)[:,1])\n",
    "fpr_xgb, tpr_xgb, _ = roc_curve(y_test, xgb_model.predict_proba(X_test)[:,1])\n",
    "plt.plot(fpr_lr, tpr_lr, label='LogisticReg')\n",
    "plt.plot(fpr_xgb, tpr_xgb, label='XGBoost')\n",
    "plt.xlabel('FPR')\n",
    "plt.ylabel('TPR')\n",
    "plt.legend()\n",
    "plt.title('Curvas ROC')\n",
    "plt.show()"
   ]
  },
  {
   "cell_type": "markdown",
   "metadata": {},
   "source": [
    "## 7. Importancia de variables\n",
    "### XGBoost"
   ]
  },
  {
   "cell_type": "code",
   "execution_count": null,
   "metadata": {},
   "outputs": [],
   "source": [
    "xgb.plot_importance(xgb_model)\n",
    "plt.show()"
   ]
  },
  {
   "cell_type": "markdown",
   "metadata": {},
   "source": [
    "## 8. Comentarios finales\n",
    "- Modifica parámetros, prueba con tu CSV y agrega visualizaciones adicionales."
   ]
  }
 ],
 "metadata": {
  "kernelspec": {
   "display_name": "Python 3",
   "language": "python",
   "name": "python3"
  },
  "language_info": {
   "name": "python",
   "version": "3.8"
  }
 },
 "nbformat": 4,
 "nbformat_minor": 5
}

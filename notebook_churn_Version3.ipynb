{
 "cells": [
  {
   "cell_type": "markdown",
   "metadata": {},
   "source": [
    "# Churn Prediction (Fuga de Clientes)\n",
    "\n",
    "Este notebook aborda la predicción de fuga de clientes en banca. Puedes usar datos generados sintéticamente o cargar un archivo CSV externo."
   ]
  },
  {
   "cell_type": "markdown",
   "metadata": {},
   "source": [
    "## 1. Importar librerías"
   ]
  },
  {
   "cell_type": "code",
   "metadata": {},
   "source": [
    "import numpy as np\n",
    "import pandas as pd\n",
    "import matplotlib.pyplot as plt\n",
    "from sklearn.model_selection import train_test_split\n",
    "from sklearn.preprocessing import LabelEncoder, StandardScaler\n",
    "from sklearn.metrics import classification_report, confusion_matrix, roc_curve\n",
    "from sklearn.linear_model import LogisticRegression\n",
    "import xgboost as xgb"
   ]
  },
  {
   "cell_type": "markdown",
   "metadata": {},
   "source": [
    "## 2. Cargar datos\n",
    "### A) Generar datos sintéticos"
   ]
  },
  {
   "cell_type": "code",
   "metadata": {},
   "source": [
    "np.random.seed(42)\n",
    "n = 1000\n",
    "data = pd.DataFrame({\n",
    "    'antiguedad': np.random.randint(1, 10, n),\n",
    "    'productos': np.random.randint(1, 5, n),\n",
    "    'transacciones_mensuales': np.random.poisson(20, n),\n",
    "    'satisfaccion': np.random.uniform(1, 5, n),\n",
    "    'segmento': np.random.choice(['Retail','Premium','Pyme'], n),\n",
    "})\n",
    "# Generar variable objetivo (churn)\n",
    "data['churn'] = (0.3*(data['antiguedad']<3) + 0.3*(data['satisfaccion']<2.5) + np.random.rand(n)) > 0.7\n",
    "data['churn'] = data['churn'].astype(int)\n",
    "data.head()"
   ]
  },
  {
   "cell_type": "markdown",
   "metadata": {},
   "source": [
    "### B) Cargar datos desde CSV\n",
    "> Si tienes tu propio archivo, descomenta la línea de abajo y reemplaza la ruta."
   ]
  },
  {
   "cell_type": "code",
   "metadata": {},
   "source": [
    "# data = pd.read_csv('clientes_churn.csv')\n",
    "# data.head()"
   ]
  },
  {
   "cell_type": "markdown",
   "metadata": {},
   "source": [
    "## 3. Análisis exploratorio y visualizaciones"
   ]
  },
  {
   "cell_type": "code",
   "metadata": {},
   "source": [
    "print(data['churn'].value_counts())\n",
    "data.describe()\n",
    "data.groupby('segmento')['churn'].mean().plot(kind='bar')\n",
    "plt.title('Tasa de churn por segmento')\n",
    "plt.ylabel('Churn Rate')\n",
    "plt.show()"
   ]
  },
  {
   "cell_type": "markdown",
   "metadata": {},
   "source": [
    "## 4. Preprocesamiento"
   ]
  },
  {
   "cell_type": "code",
   "metadata": {},
   "source": [
    "X = data.drop('churn', axis=1)\n",
    "y = data['churn']\n",
    "X['segmento'] = LabelEncoder().fit_transform(X['segmento'])\n",
    "scaler = StandardScaler()\n",
    "X_scaled = scaler.fit_transform(X)\n",
    "X_train, X_test, y_train, y_test = train_test_split(X_scaled, y, test_size=0.3, random_state=42)"
   ]
  },
  {
   "cell_type": "markdown",
   "metadata": {},
   "source": [
    "## 5. Modelos\n",
    "### A) Regresión Logística"
   ]
  },
  {
   "cell_type": "code",
   "metadata": {},
   "source": [
    "lr = LogisticRegression(max_iter=200)\n",
    "lr.fit(X_train, y_train)\n",
    "y_pred_lr = lr.predict(X_test)\n",
    "print(classification_report(y_test, y_pred_lr))"
   ]
  },
  {
   "cell_type": "markdown",
   "metadata": {},
   "source": [
    "### B) XGBoost"
   ]
  },
  {
   "cell_type": "code",
   "metadata": {},
   "source": [
    "xgb_model = xgb.XGBClassifier(use_label_encoder=False, eval_metric='logloss')\n",
    "xgb_model.fit(X_train, y_train)\n",
    "y_pred_xgb = xgb_model.predict(X_test)\n",
    "print(classification_report(y_test, y_pred_xgb))"
   ]
  },
  {
   "cell_type": "markdown",
   "metadata": {},
   "source": [
    "## 6. Evaluación y visualización"
   ]
  },
  {
   "cell_type": "code",
   "metadata": {},
   "source": [
    "plt.figure(figsize=(6,3))\n",
    "plt.subplot(1,2,1)\n",
    "plt.title('Confusión LR')\n",
    "plt.imshow(confusion_matrix(y_test, y_pred_lr), cmap='Blues')\n",
    "plt.subplot(1,2,2)\n",
    "plt.title('Confusión XGBoost')\n",
    "plt.imshow(confusion_matrix(y_test, y_pred_xgb), cmap='Greens')\n",
    "plt.show()\n",
    "fpr_lr, tpr_lr, _ = roc_curve(y_test, lr.predict_proba(X_test)[:,1])\n",
    "fpr_xgb, tpr_xgb, _ = roc_curve(y_test, xgb_model.predict_proba(X_test)[:,1])\n",
    "plt.plot(fpr_lr, tpr_lr, label='LogisticReg')\n",
    "plt.plot(fpr_xgb, tpr_xgb, label='XGBoost')\n",
    "plt.xlabel('FPR')\n",
    "plt.ylabel('TPR')\n",
    "plt.legend()\n",
    "plt.title('Curvas ROC')\n",
    "plt.show()"
   ]
  },
  {
   "cell_type": "markdown",
   "metadata": {},
   "source": [
    "## 7. Importancia de variables\n",
    "### XGBoost"
   ]
  },
  {
   "cell_type": "code",
   "metadata": {},
   "source": [
    "xgb.plot_importance(xgb_model)\n",
    "plt.show()"
   ]
  },
  {
   "cell_type": "markdown",
   "metadata": {},
   "source": [
    "## 8. Comentarios finales\n",
    "\n",
    "- Puedes modificar los parámetros de los modelos para tuning.\n",
    "- Prueba con tu propio CSV o ajusta las variables sintéticas.\n",
    "- Agrega nuevas visualizaciones para enriquecer el análisis."
   ]
  }
 ],
 "metadata": {
  "kernelspec": {
   "display_name": "Python 3",
   "language": "python",
   "name": "python3"
  },
  "language_info": {
   "name": "python",
   "version": "3.8"
  }
 },
 "nbformat": 4,
 "nbformat_minor": 5
}
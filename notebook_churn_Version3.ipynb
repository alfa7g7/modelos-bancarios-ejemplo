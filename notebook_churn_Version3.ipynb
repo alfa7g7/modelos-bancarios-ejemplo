{
 "cells": [
  {
   "cell_type": "markdown",
   "metadata": {},
   "source": [
    "# Churn Prediction (Fuga de Clientes)\n",
    "\n",
    "Este notebook aborda la predicción de fuga de clientes en banca. Puedes usar datos generados sintéticamente o cargar un archivo CSV externo."
   ]
  },
  {
   "cell_type": "markdown",
   "metadata": {},
   "source": [
    "## 1. Importar librerías"
   ]
  },
  {
   "cell_type": "code",
   "execution_count": null,
   "metadata": {},
   "outputs": [
    {
     "name": "stdout",
     "output_type": "stream",
     "text": [
      "✅ Librerías importadas correctamente:\n",
      "NumPy: 1.24.3\n",
      "Pandas: 1.5.3\n",
      "XGBoost: 1.7.6\n",
      "Optuna: 4.5.0\n",
      "🎯 Listo para optimización bayesiana!\n"
     ]
    }
   ],
   "source": [
    "import numpy as np\n",
    "import pandas as pd\n",
    "import matplotlib.pyplot as plt\n",
    "from sklearn.model_selection import train_test_split, cross_val_score\n",
    "from sklearn.preprocessing import LabelEncoder, StandardScaler\n",
    "from sklearn.metrics import classification_report, confusion_matrix, roc_curve, accuracy_score\n",
    "from sklearn.linear_model import LogisticRegression\n",
    "import xgboost as xgb\n",
    "import optuna\n",
    "from optuna.samplers import TPESampler\n",
    "import os\n",
    "import psutil\n",
    "\n",
    "# Verificar que todas las librerías estén importadas correctamente\n",
    "print(\"✅ Librerías importadas correctamente:\")\n",
    "print(f\"NumPy: {np.__version__}\")\n",
    "print(f\"Pandas: {pd.__version__}\")\n",
    "print(f\"XGBoost: {xgb.__version__}\")\n",
    "print(f\"Optuna: {optuna.__version__}\")\n",
    "\n",
    "# Verificar hardware disponible\n",
    "print(f\"\\n🖥️ Hardware disponible:\")\n",
    "print(f\"CPU Cores: {psutil.cpu_count(logical=False)} físicos, {psutil.cpu_count(logical=True)} lógicos\")\n",
    "print(f\"RAM: {psutil.virtual_memory().total / (1024**3):.1f} GB\")\n",
    "print(f\"RAM disponible: {psutil.virtual_memory().available / (1024**3):.1f} GB\")\n",
    "\n",
    "# Verificar soporte GPU para XGBoost\n",
    "try:\n",
    "    import subprocess\n",
    "    result = subprocess.run(['nvidia-smi'], capture_output=True, text=True)\n",
    "    if result.returncode == 0:\n",
    "        print(\"🎮 GPU NVIDIA detectada - XGBoost puede usar GPU\")\n",
    "        GPU_AVAILABLE = True\n",
    "    else:\n",
    "        print(\"⚠️ GPU NVIDIA no detectada - usando CPU\")\n",
    "        GPU_AVAILABLE = False\n",
    "except:\n",
    "    print(\"⚠️ No se pudo verificar GPU - usando CPU\")\n",
    "    GPU_AVAILABLE = False\n",
    "\n",
    "print(\"🚀 Listo para optimización bayesiana optimizada!\")"
   ]
  },
  {
   "cell_type": "markdown",
   "metadata": {},
   "source": [
    "## 2. Cargar datos\n",
    "### A) Generar datos sintéticos"
   ]
  },
  {
   "cell_type": "code",
   "execution_count": null,
   "metadata": {},
   "outputs": [
    {
     "data": {
      "text/html": [
       "<div>\n",
       "<style scoped>\n",
       "    .dataframe tbody tr th:only-of-type {\n",
       "        vertical-align: middle;\n",
       "    }\n",
       "\n",
       "    .dataframe tbody tr th {\n",
       "        vertical-align: top;\n",
       "    }\n",
       "\n",
       "    .dataframe thead th {\n",
       "        text-align: right;\n",
       "    }\n",
       "</style>\n",
       "<table border=\"1\" class=\"dataframe\">\n",
       "  <thead>\n",
       "    <tr style=\"text-align: right;\">\n",
       "      <th></th>\n",
       "      <th>antiguedad</th>\n",
       "      <th>productos</th>\n",
       "      <th>transacciones_mensuales</th>\n",
       "      <th>satisfaccion</th>\n",
       "      <th>segmento</th>\n",
       "      <th>churn</th>\n",
       "    </tr>\n",
       "  </thead>\n",
       "  <tbody>\n",
       "    <tr>\n",
       "      <th>0</th>\n",
       "      <td>7</td>\n",
       "      <td>4</td>\n",
       "      <td>15</td>\n",
       "      <td>1.627251</td>\n",
       "      <td>Premium</td>\n",
       "      <td>0</td>\n",
       "    </tr>\n",
       "    <tr>\n",
       "      <th>1</th>\n",
       "      <td>4</td>\n",
       "      <td>3</td>\n",
       "      <td>33</td>\n",
       "      <td>4.309209</td>\n",
       "      <td>Pyme</td>\n",
       "      <td>0</td>\n",
       "    </tr>\n",
       "    <tr>\n",
       "      <th>2</th>\n",
       "      <td>8</td>\n",
       "      <td>3</td>\n",
       "      <td>22</td>\n",
       "      <td>1.167661</td>\n",
       "      <td>Pyme</td>\n",
       "      <td>0</td>\n",
       "    </tr>\n",
       "    <tr>\n",
       "      <th>3</th>\n",
       "      <td>5</td>\n",
       "      <td>3</td>\n",
       "      <td>24</td>\n",
       "      <td>2.676732</td>\n",
       "      <td>Pyme</td>\n",
       "      <td>0</td>\n",
       "    </tr>\n",
       "    <tr>\n",
       "      <th>4</th>\n",
       "      <td>7</td>\n",
       "      <td>1</td>\n",
       "      <td>33</td>\n",
       "      <td>1.672815</td>\n",
       "      <td>Premium</td>\n",
       "      <td>1</td>\n",
       "    </tr>\n",
       "  </tbody>\n",
       "</table>\n",
       "</div>"
      ],
      "text/plain": [
       "   antiguedad  productos  transacciones_mensuales  satisfaccion segmento  \\\n",
       "0           7          4                       15      1.627251  Premium   \n",
       "1           4          3                       33      4.309209     Pyme   \n",
       "2           8          3                       22      1.167661     Pyme   \n",
       "3           5          3                       24      2.676732     Pyme   \n",
       "4           7          1                       33      1.672815  Premium   \n",
       "\n",
       "   churn  \n",
       "0      0  \n",
       "1      0  \n",
       "2      0  \n",
       "3      0  \n",
       "4      1  "
      ]
     },
     "execution_count": 2,
     "metadata": {},
     "output_type": "execute_result"
    }
   ],
   "source": [
    "np.random.seed(42)\n",
    "# Generar dataset más grande aprovechando la RAM (64GB)\n",
    "n = 10000  # 10x más datos para mejor entrenamiento\n",
    "print(f\"📊 Generando dataset con {n:,} registros...\")\n",
    "\n",
    "data = pd.DataFrame({\n",
    "    'antiguedad': np.random.randint(1, 15, n),  # Más rango\n",
    "    'productos': np.random.randint(1, 8, n),    # Más productos\n",
    "    'transacciones_mensuales': np.random.poisson(25, n),  # Más transacciones\n",
    "    'satisfaccion': np.random.uniform(1, 5, n),\n",
    "    'segmento': np.random.choice(['Retail','Premium','Pyme','Empresarial'], n, p=[0.4, 0.3, 0.2, 0.1]),\n",
    "    'edad': np.random.randint(18, 80, n),\n",
    "    'ingresos_mensuales': np.random.lognormal(8, 0.5, n),  # Distribución log-normal\n",
    "    'deuda_total': np.random.lognormal(6, 1, n),\n",
    "    'score_credito': np.random.normal(650, 100, n),\n",
    "})\n",
    "\n",
    "# Generar variable objetivo (churn) más realista\n",
    "churn_prob = (\n",
    "    0.2 * (data['antiguedad'] < 2) +           # Clientes nuevos\n",
    "    0.3 * (data['satisfaccion'] < 2.5) +       # Baja satisfacción\n",
    "    0.2 * (data['productos'] == 1) +           # Un solo producto\n",
    "    0.1 * (data['deuda_total'] > data['ingresos_mensuales'] * 0.5) +  # Alto endeudamiento\n",
    "    0.1 * (data['score_credito'] < 600) +      # Mal score crediticio\n",
    "    np.random.rand(n) * 0.1                    # Ruido aleatorio\n",
    ")\n",
    "\n",
    "data['churn'] = (churn_prob > 0.4).astype(int)\n",
    "print(f\"✅ Dataset generado: {data.shape[0]:,} filas x {data.shape[1]} columnas\")\n",
    "print(f\"📈 Tasa de churn: {data['churn'].mean():.2%}\")\n",
    "data.head()"
   ]
  },
  {
   "cell_type": "markdown",
   "metadata": {},
   "source": [
    "### B) Cargar datos desde CSV\n",
    "> Si tienes tu propio archivo, descomenta la línea de abajo y reemplaza la ruta."
   ]
  },
  {
   "cell_type": "code",
   "execution_count": null,
   "metadata": {},
   "outputs": [],
   "source": [
    "# data = pd.read_csv('clientes_churn.csv')\n",
    "# data.head()"
   ]
  },
  {
   "cell_type": "markdown",
   "metadata": {},
   "source": [
    "## 3. Análisis exploratorio y visualizaciones"
   ]
  },
  {
   "cell_type": "code",
   "execution_count": 3,
   "metadata": {},
   "outputs": [
    {
     "name": "stdout",
     "output_type": "stream",
     "text": [
      "0    511\n",
      "1    489\n",
      "Name: churn, dtype: int64\n"
     ]
    },
    {
     "data": {
      "image/png": "[encoded data removed]",
      "text/plain": [
       "<Figure size 640x480 with 1 Axes>"
      ]
     },
     "metadata": {},
     "output_type": "display_data"
    }
   ],
   "source": [
    "print(data['churn'].value_counts())\n",
    "data.describe()\n",
    "data.groupby('segmento')['churn'].mean().plot(kind='bar')\n",
    "plt.title('Tasa de churn por segmento')\n",
    "plt.ylabel('Churn Rate')\n",
    "plt.show()"
   ]
  },
  {
   "cell_type": "markdown",
   "metadata": {},
   "source": [
    "## 4. Preprocesamiento"
   ]
  },
  {
   "cell_type": "code",
   "execution_count": 4,
   "metadata": {},
   "outputs": [],
   "source": [
    "X = data.drop('churn', axis=1)\n",
    "y = data['churn']\n",
    "X['segmento'] = LabelEncoder().fit_transform(X['segmento'])\n",
    "scaler = StandardScaler()\n",
    "X_scaled = scaler.fit_transform(X)\n",
    "X_train, X_test, y_train, y_test = train_test_split(X_scaled, y, test_size=0.3, random_state=42)"
   ]
  },
  {
   "cell_type": "markdown",
   "metadata": {},
   "source": [
    "## 5. Modelos\n",
    "### A) Regresión Logística"
   ]
  },
  {
   "cell_type": "code",
   "execution_count": 5,
   "metadata": {},
   "outputs": [
    {
     "name": "stdout",
     "output_type": "stream",
     "text": [
      "              precision    recall  f1-score   support\n",
      "\n",
      "           0       0.63      0.71      0.67       150\n",
      "           1       0.67      0.57      0.62       150\n",
      "\n",
      "    accuracy                           0.64       300\n",
      "   macro avg       0.65      0.64      0.64       300\n",
      "weighted avg       0.65      0.64      0.64       300\n",
      "\n"
     ]
    }
   ],
   "source": [
    "lr = LogisticRegression(max_iter=200)\n",
    "lr.fit(X_train, y_train)\n",
    "y_pred_lr = lr.predict(X_test)\n",
    "print(classification_report(y_test, y_pred_lr))"
   ]
  },
  {
   "cell_type": "markdown",
   "metadata": {},
   "source": [
    "### B) XGBoost"
   ]
  },
  {
   "cell_type": "code",
   "execution_count": 6,
   "metadata": {},
   "outputs": [
    {
     "name": "stderr",
     "output_type": "stream",
     "text": [
      "C:\\Users\\alfa7\\AppData\\Roaming\\Python\\Python310\\site-packages\\xgboost\\sklearn.py:1395: UserWarning: `use_label_encoder` is deprecated in 1.7.0.\n",
      "  warnings.warn(\"`use_label_encoder` is deprecated in 1.7.0.\")\n"
     ]
    },
    {
     "name": "stdout",
     "output_type": "stream",
     "text": [
      "              precision    recall  f1-score   support\n",
      "\n",
      "           0       0.61      0.69      0.65       150\n",
      "           1       0.64      0.55      0.59       150\n",
      "\n",
      "    accuracy                           0.62       300\n",
      "   macro avg       0.63      0.62      0.62       300\n",
      "weighted avg       0.63      0.62      0.62       300\n",
      "\n"
     ]
    }
   ],
   "source": [
    "xgb_model = xgb.XGBClassifier(use_label_encoder=False, eval_metric='logloss')\n",
    "xgb_model.fit(X_train, y_train)\n",
    "y_pred_xgb = xgb_model.predict(X_test)\n",
    "print(classification_report(y_test, y_pred_xgb))"
   ]
  },
  {
   "cell_type": "markdown",
   "metadata": {},
   "source": [
    "## 6. Evaluación y visualización"
   ]
  },
  {
   "cell_type": "code",
   "execution_count": null,
   "metadata": {},
   "outputs": [
    {
     "data": {
      "image/png": "[encoded data removed]",
      "text/plain": [
       "<Figure size 600x300 with 2 Axes>"
      ]
     },
     "metadata": {},
     "output_type": "display_data"
    },
    {
     "data": {
      "image/png": "[encoded data removed]",
      "text/plain": [
       "<Figure size 640x480 with 1 Axes>"
      ]
     },
     "metadata": {},
     "output_type": "display_data"
    }
   ],
   "source": [
    "plt.figure(figsize=(12,4))\n",
    "plt.subplot(1,3,1)\n",
    "plt.title('Confusión LR Original')\n",
    "plt.imshow(confusion_matrix(y_test, y_pred_lr), cmap='Blues')\n",
    "plt.subplot(1,3,2)\n",
    "plt.title('Confusión XGBoost Original')\n",
    "plt.imshow(confusion_matrix(y_test, y_pred_xgb), cmap='Greens')\n",
    "plt.subplot(1,3,3)\n",
    "plt.title('Confusión XGBoost Optimizado')\n",
    "plt.imshow(confusion_matrix(y_test, y_pred_xgb_opt), cmap='Oranges')\n",
    "plt.show()\n",
    "\n",
    "# Curvas ROC comparativas\n",
    "fpr_lr, tpr_lr, _ = roc_curve(y_test, lr.predict_proba(X_test)[:,1])\n",
    "fpr_xgb, tpr_xgb, _ = roc_curve(y_test, xgb_model.predict_proba(X_test)[:,1])\n",
    "fpr_lr_opt, tpr_lr_opt, _ = roc_curve(y_test, lr_optimized.predict_proba(X_test)[:,1])\n",
    "fpr_xgb_opt, tpr_xgb_opt, _ = roc_curve(y_test, xgb_optimized.predict_proba(X_test)[:,1])\n",
    "\n",
    "plt.figure(figsize=(10,6))\n",
    "plt.plot(fpr_lr, tpr_lr, label='LR Original', linestyle='--')\n",
    "plt.plot(fpr_lr_opt, tpr_lr_opt, label='LR Optimizado')\n",
    "plt.plot(fpr_xgb, tpr_xgb, label='XGBoost Original', linestyle='--')\n",
    "plt.plot(fpr_xgb_opt, tpr_xgb_opt, label='XGBoost Optimizado')\n",
    "plt.xlabel('FPR')\n",
    "plt.ylabel('TPR')\n",
    "plt.legend()\n",
    "plt.title('Curvas ROC - Comparación')\n",
    "plt.grid(True, alpha=0.3)\n",
    "plt.show()"
   ]
  },
  {
   "cell_type": "markdown",
   "metadata": {},
   "source": [
    "## 7. Importancia de variables\n",
    "### XGBoost"
   ]
  },
  {
   "cell_type": "code",
   "execution_count": 8,
   "metadata": {},
   "outputs": [
    {
     "data": {
      "image/png": "[encoded data removed]",
      "text/plain": [
       "<Figure size 640x480 with 1 Axes>"
      ]
     },
     "metadata": {},
     "output_type": "display_data"
    }
   ],
   "source": [
    "xgb.plot_importance(xgb_model)\n",
    "plt.show()"
   ]
  },
  {
   "cell_type": "markdown",
   "id": "820bff75",
   "metadata": {},
   "source": [
    "## 6. Optimización Bayesiana con Optuna\n",
    "\n",
    "Vamos a optimizar los hiperparámetros de ambos modelos usando optimización bayesiana para mejorar el rendimiento.\n"
   ]
  },
  {
   "cell_type": "code",
   "execution_count": null,
   "id": "4c0abfca",
   "metadata": {},
   "outputs": [
    {
     "name": "stderr",
     "output_type": "stream",
     "text": [
      "[I 2025-09-17 18:53:12,765] A new study created in memory with name: no-name-9522afcc-f0bd-4941-9222-88d7bfdba6b2\n",
      "[I 2025-09-17 18:53:12,783] Trial 0 finished with value: 0.6328571428571428 and parameters: {'C': 0.31489116479568624, 'penalty': 'l1', 'max_iter': 240, 'solver_l1': 'liblinear'}. Best is trial 0 with value: 0.6328571428571428.\n",
      "[I 2025-09-17 18:53:12,801] Trial 1 finished with value: 0.6442857142857142 and parameters: {'C': 29.154431891537552, 'penalty': 'l2', 'max_iter': 973, 'solver_l2': 'liblinear'}. Best is trial 1 with value: 0.6442857142857142.\n",
      "[I 2025-09-17 18:53:12,823] Trial 2 finished with value: 0.6428571428571428 and parameters: {'C': 0.05415244119402541, 'penalty': 'l2', 'max_iter': 362, 'solver_l2': 'liblinear'}. Best is trial 1 with value: 0.6442857142857142.\n",
      "[I 2025-09-17 18:53:12,848] Trial 3 finished with value: 0.6414285714285713 and parameters: {'C': 0.2920433847181412, 'penalty': 'l2', 'max_iter': 563, 'solver_l2': 'saga'}. Best is trial 1 with value: 0.6442857142857142.\n",
      "[I 2025-09-17 18:53:12,858] Trial 4 finished with value: 0.0 and parameters: {'C': 0.04809461967501574, 'penalty': 'elasticnet', 'max_iter': 828}. Best is trial 1 with value: 0.6442857142857142.\n",
      "[I 2025-09-17 18:53:12,895] Trial 5 finished with value: 0.6414285714285713 and parameters: {'C': 0.1653693718282443, 'penalty': 'l2', 'max_iter': 209, 'solver_l2': 'saga'}. Best is trial 1 with value: 0.6442857142857142.\n",
      "[I 2025-09-17 18:53:12,922] Trial 6 finished with value: 0.6385714285714286 and parameters: {'C': 0.10842262717330164, 'penalty': 'l1', 'max_iter': 592, 'solver_l1': 'saga'}. Best is trial 1 with value: 0.6442857142857142.\n",
      "[I 2025-09-17 18:53:12,948] Trial 7 finished with value: 0.6428571428571428 and parameters: {'C': 12.60466458564947, 'penalty': 'l1', 'max_iter': 930, 'solver_l1': 'saga'}. Best is trial 1 with value: 0.6442857142857142.\n",
      "[I 2025-09-17 18:53:12,972] Trial 8 finished with value: 0.6457142857142857 and parameters: {'C': 0.015167330688076212, 'penalty': 'l2', 'max_iter': 846, 'solver_l2': 'saga'}. Best is trial 8 with value: 0.6457142857142857.\n"
     ]
    },
    {
     "name": "stdout",
     "output_type": "stream",
     "text": [
      "🔍 Optimizando Regresión Logística...\n"
     ]
    },
    {
     "name": "stderr",
     "output_type": "stream",
     "text": [
      "[I 2025-09-17 18:53:12,982] Trial 9 finished with value: 0.0 and parameters: {'C': 0.0366181922039243, 'penalty': 'elasticnet', 'max_iter': 795}. Best is trial 8 with value: 0.6457142857142857.\n",
      "[I 2025-09-17 18:53:13,012] Trial 10 finished with value: 0.6457142857142857 and parameters: {'C': 0.012079729508717446, 'penalty': 'l2', 'max_iter': 727, 'solver_l2': 'lbfgs'}. Best is trial 8 with value: 0.6457142857142857.\n",
      "[I 2025-09-17 18:53:13,042] Trial 11 finished with value: 0.6457142857142857 and parameters: {'C': 0.011430113525046788, 'penalty': 'l2', 'max_iter': 723, 'solver_l2': 'lbfgs'}. Best is trial 8 with value: 0.6457142857142857.\n",
      "[I 2025-09-17 18:53:13,071] Trial 12 finished with value: 0.6442857142857142 and parameters: {'C': 3.2176187174456263, 'penalty': 'l2', 'max_iter': 680, 'solver_l2': 'lbfgs'}. Best is trial 8 with value: 0.6457142857142857.\n",
      "[I 2025-09-17 18:53:13,100] Trial 13 finished with value: 0.6457142857142857 and parameters: {'C': 0.012410392416252638, 'penalty': 'l2', 'max_iter': 408, 'solver_l2': 'saga'}. Best is trial 8 with value: 0.6457142857142857.\n",
      "[I 2025-09-17 18:53:13,131] Trial 14 finished with value: 0.6428571428571428 and parameters: {'C': 1.9641014244241741, 'penalty': 'l2', 'max_iter': 871, 'solver_l2': 'lbfgs'}. Best is trial 8 with value: 0.6457142857142857.\n",
      "[I 2025-09-17 18:53:13,147] Trial 15 finished with value: 0.0 and parameters: {'C': 0.7340829124225812, 'penalty': 'elasticnet', 'max_iter': 654}. Best is trial 8 with value: 0.6457142857142857.\n",
      "[I 2025-09-17 18:53:13,176] Trial 16 finished with value: 0.647142857142857 and parameters: {'C': 0.022155200633457432, 'penalty': 'l2', 'max_iter': 461, 'solver_l2': 'saga'}. Best is trial 16 with value: 0.647142857142857.\n",
      "[I 2025-09-17 18:53:13,209] Trial 17 finished with value: 0.6442857142857142 and parameters: {'C': 96.39757903159523, 'penalty': 'l2', 'max_iter': 449, 'solver_l2': 'saga'}. Best is trial 16 with value: 0.647142857142857.\n",
      "[I 2025-09-17 18:53:13,234] Trial 18 finished with value: 0.6371428571428571 and parameters: {'C': 0.03272200305000949, 'penalty': 'l1', 'max_iter': 492, 'solver_l1': 'liblinear'}. Best is trial 16 with value: 0.647142857142857.\n",
      "[I 2025-09-17 18:53:13,250] Trial 19 finished with value: 0.0 and parameters: {'C': 0.7008407697515193, 'penalty': 'elasticnet', 'max_iter': 293}. Best is trial 16 with value: 0.647142857142857.\n",
      "[I 2025-09-17 18:53:13,281] Trial 20 finished with value: 0.6457142857142857 and parameters: {'C': 0.02463218395149736, 'penalty': 'l2', 'max_iter': 521, 'solver_l2': 'saga'}. Best is trial 16 with value: 0.647142857142857.\n",
      "[I 2025-09-17 18:53:13,311] Trial 21 finished with value: 0.6457142857142857 and parameters: {'C': 0.011880334324031334, 'penalty': 'l2', 'max_iter': 752, 'solver_l2': 'lbfgs'}. Best is trial 16 with value: 0.647142857142857.\n",
      "[I 2025-09-17 18:53:13,344] Trial 22 finished with value: 0.6428571428571428 and parameters: {'C': 0.06571583773341054, 'penalty': 'l2', 'max_iter': 109, 'solver_l2': 'saga'}. Best is trial 16 with value: 0.647142857142857.\n",
      "[I 2025-09-17 18:53:13,375] Trial 23 finished with value: 0.6457142857142857 and parameters: {'C': 0.020758217735278795, 'penalty': 'l2', 'max_iter': 889, 'solver_l2': 'saga'}. Best is trial 16 with value: 0.647142857142857.\n",
      "[I 2025-09-17 18:53:13,407] Trial 24 finished with value: 0.6428571428571428 and parameters: {'C': 0.1111302441310431, 'penalty': 'l2', 'max_iter': 646, 'solver_l2': 'lbfgs'}. Best is trial 16 with value: 0.647142857142857.\n",
      "[I 2025-09-17 18:53:13,437] Trial 25 finished with value: 0.6442857142857142 and parameters: {'C': 0.01022936154725594, 'penalty': 'l2', 'max_iter': 772, 'solver_l2': 'saga'}. Best is trial 16 with value: 0.647142857142857.\n",
      "[I 2025-09-17 18:53:13,464] Trial 26 finished with value: 0.6414285714285713 and parameters: {'C': 0.02189545412633412, 'penalty': 'l2', 'max_iter': 973, 'solver_l2': 'liblinear'}. Best is trial 16 with value: 0.647142857142857.\n",
      "[I 2025-09-17 18:53:13,494] Trial 27 finished with value: 0.6414285714285713 and parameters: {'C': 0.2347225559459675, 'penalty': 'l2', 'max_iter': 579, 'solver_l2': 'lbfgs'}. Best is trial 16 with value: 0.647142857142857.\n",
      "[I 2025-09-17 18:53:13,511] Trial 28 finished with value: 0.0 and parameters: {'C': 0.09122596822831426, 'penalty': 'elasticnet', 'max_iter': 836}. Best is trial 16 with value: 0.647142857142857.\n",
      "[I 2025-09-17 18:53:13,549] Trial 29 finished with value: 0.6457142857142857 and parameters: {'C': 0.022741394817703858, 'penalty': 'l1', 'max_iter': 695, 'solver_l1': 'saga'}. Best is trial 16 with value: 0.647142857142857.\n",
      "[I 2025-09-17 18:53:13,575] Trial 30 finished with value: 0.6371428571428571 and parameters: {'C': 0.5044362088337713, 'penalty': 'l1', 'max_iter': 624, 'solver_l1': 'liblinear'}. Best is trial 16 with value: 0.647142857142857.\n",
      "[I 2025-09-17 18:53:13,607] Trial 31 finished with value: 0.6442857142857142 and parameters: {'C': 0.010360321029989905, 'penalty': 'l2', 'max_iter': 706, 'solver_l2': 'lbfgs'}. Best is trial 16 with value: 0.647142857142857.\n",
      "[I 2025-09-17 18:53:13,639] Trial 32 finished with value: 0.6457142857142857 and parameters: {'C': 0.01979787307988267, 'penalty': 'l2', 'max_iter': 736, 'solver_l2': 'lbfgs'}. Best is trial 16 with value: 0.647142857142857.\n",
      "[I 2025-09-17 18:53:13,671] Trial 33 finished with value: 0.6442857142857142 and parameters: {'C': 0.048484466149622006, 'penalty': 'l2', 'max_iter': 995, 'solver_l2': 'lbfgs'}. Best is trial 16 with value: 0.647142857142857.\n",
      "[I 2025-09-17 18:53:13,703] Trial 34 finished with value: 0.6457142857142857 and parameters: {'C': 0.015103987678921568, 'penalty': 'l2', 'max_iter': 354, 'solver_l2': 'lbfgs'}. Best is trial 16 with value: 0.647142857142857.\n",
      "[I 2025-09-17 18:53:13,736] Trial 35 finished with value: 0.6428571428571428 and parameters: {'C': 0.0662375379549048, 'penalty': 'l2', 'max_iter': 899, 'solver_l2': 'saga'}. Best is trial 16 with value: 0.647142857142857.\n",
      "[I 2025-09-17 18:53:13,768] Trial 36 finished with value: 0.6457142857142857 and parameters: {'C': 0.0397043187432513, 'penalty': 'l2', 'max_iter': 810, 'solver_l2': 'lbfgs'}. Best is trial 16 with value: 0.647142857142857.\n",
      "[I 2025-09-17 18:53:13,803] Trial 37 finished with value: 0.6442857142857142 and parameters: {'C': 8.598795306126854, 'penalty': 'l2', 'max_iter': 477, 'solver_l2': 'saga'}. Best is trial 16 with value: 0.647142857142857.\n",
      "[I 2025-09-17 18:53:13,831] Trial 38 finished with value: 0.6428571428571428 and parameters: {'C': 0.13943864691036004, 'penalty': 'l2', 'max_iter': 549, 'solver_l2': 'liblinear'}. Best is trial 16 with value: 0.647142857142857.\n",
      "[I 2025-09-17 18:53:13,848] Trial 39 finished with value: 0.0 and parameters: {'C': 0.03211900078411784, 'penalty': 'elasticnet', 'max_iter': 937}. Best is trial 16 with value: 0.647142857142857.\n",
      "[I 2025-09-17 18:53:13,883] Trial 40 finished with value: 0.6399999999999999 and parameters: {'C': 0.19433174506300535, 'penalty': 'l1', 'max_iter': 607, 'solver_l1': 'saga'}. Best is trial 16 with value: 0.647142857142857.\n",
      "[I 2025-09-17 18:53:13,916] Trial 41 finished with value: 0.6457142857142857 and parameters: {'C': 0.016331006154512988, 'penalty': 'l2', 'max_iter': 407, 'solver_l2': 'saga'}. Best is trial 16 with value: 0.647142857142857.\n",
      "[I 2025-09-17 18:53:13,947] Trial 42 finished with value: 0.6442857142857142 and parameters: {'C': 0.010308369436037109, 'penalty': 'l2', 'max_iter': 378, 'solver_l2': 'saga'}. Best is trial 16 with value: 0.647142857142857.\n",
      "[I 2025-09-17 18:53:13,982] Trial 43 finished with value: 0.6457142857142857 and parameters: {'C': 0.014396417530159893, 'penalty': 'l2', 'max_iter': 300, 'solver_l2': 'saga'}. Best is trial 16 with value: 0.647142857142857.\n",
      "[I 2025-09-17 18:53:14,015] Trial 44 finished with value: 0.6457142857142857 and parameters: {'C': 0.03194975848913434, 'penalty': 'l2', 'max_iter': 856, 'solver_l2': 'saga'}. Best is trial 16 with value: 0.647142857142857.\n",
      "[I 2025-09-17 18:53:14,043] Trial 45 finished with value: 0.6414285714285713 and parameters: {'C': 0.07095001290642397, 'penalty': 'l2', 'max_iter': 416, 'solver_l2': 'liblinear'}. Best is trial 16 with value: 0.647142857142857.\n",
      "[I 2025-09-17 18:53:14,078] Trial 46 finished with value: 0.6457142857142857 and parameters: {'C': 0.01608389160774598, 'penalty': 'l2', 'max_iter': 215, 'solver_l2': 'saga'}. Best is trial 16 with value: 0.647142857142857.\n",
      "[I 2025-09-17 18:53:14,113] Trial 47 finished with value: 0.6428571428571428 and parameters: {'C': 1.7980941132106807, 'penalty': 'l2', 'max_iter': 329, 'solver_l2': 'lbfgs'}. Best is trial 16 with value: 0.647142857142857.\n",
      "[I 2025-09-17 18:53:14,130] Trial 48 finished with value: 0.0 and parameters: {'C': 0.05167997423278148, 'penalty': 'elasticnet', 'max_iter': 526}. Best is trial 16 with value: 0.647142857142857.\n",
      "[I 2025-09-17 18:53:14,164] Trial 49 finished with value: 0.6457142857142857 and parameters: {'C': 0.02639048561428331, 'penalty': 'l2', 'max_iter': 784, 'solver_l2': 'saga'}. Best is trial 16 with value: 0.647142857142857.\n"
     ]
    },
    {
     "name": "stdout",
     "output_type": "stream",
     "text": [
      "Mejor score: 0.6471\n",
      "Mejores parámetros: {'C': 0.022155200633457432, 'penalty': 'l2', 'max_iter': 461, 'solver_l2': 'saga'}\n"
     ]
    }
   ],
   "source": [
    "# Función objetivo para Regresión Logística\n",
    "def objective_lr(trial):\n",
    "    # Definir el espacio de búsqueda de hiperparámetros\n",
    "    C = trial.suggest_float('C', 0.01, 100.0, log=True)\n",
    "    penalty = trial.suggest_categorical('penalty', ['l1', 'l2', 'elasticnet'])\n",
    "    max_iter = trial.suggest_int('max_iter', 100, 1000)\n",
    "    \n",
    "    # Seleccionar solver compatible con la penalty\n",
    "    if penalty == 'elasticnet':\n",
    "        solver = 'saga'\n",
    "    elif penalty == 'l1':\n",
    "        solver = trial.suggest_categorical('solver_l1', ['liblinear', 'saga'])\n",
    "    else:  # penalty == 'l2'\n",
    "        solver = trial.suggest_categorical('solver_l2', ['liblinear', 'lbfgs', 'saga'])\n",
    "    \n",
    "    # Crear y entrenar el modelo\n",
    "    model = LogisticRegression(\n",
    "        C=C, \n",
    "        penalty=penalty, \n",
    "        solver=solver, \n",
    "        max_iter=max_iter,\n",
    "        random_state=42\n",
    "    )\n",
    "    \n",
    "    # Validación cruzada con manejo de errores\n",
    "    try:\n",
    "        scores = cross_val_score(model, X_train, y_train, cv=5, scoring='accuracy')\n",
    "        return scores.mean()\n",
    "    except Exception as e:\n",
    "        # Si hay error, retornar un score muy bajo para que Optuna evite esta combinación\n",
    "        return 0.0\n",
    "\n",
    "# Función para crear modelo optimizado con parámetros mapeados correctamente\n",
    "def create_optimized_lr_model(best_params):\n",
    "    \"\"\"Crea un modelo de regresión logística con los parámetros optimizados\"\"\"\n",
    "    # Mapear los parámetros correctamente\n",
    "    params = {\n",
    "        'C': best_params['C'],\n",
    "        'penalty': best_params['penalty'],\n",
    "        'max_iter': best_params['max_iter'],\n",
    "        'random_state': 42\n",
    "    }\n",
    "    \n",
    "    # Determinar el solver basado en la penalty\n",
    "    if best_params['penalty'] == 'elasticnet':\n",
    "        params['solver'] = 'saga'\n",
    "    elif best_params['penalty'] == 'l1':\n",
    "        params['solver'] = best_params.get('solver_l1', 'liblinear')\n",
    "    else:  # penalty == 'l2'\n",
    "        params['solver'] = best_params.get('solver_l2', 'liblinear')\n",
    "    \n",
    "    return LogisticRegression(**params)\n",
    "\n",
    "# Optimización para Regresión Logística\n",
    "print(\"🔍 Optimizando Regresión Logística...\")\n",
    "study_lr = optuna.create_study(direction='maximize', sampler=TPESampler(seed=42))\n",
    "study_lr.optimize(objective_lr, n_trials=50)\n",
    "\n",
    "print(f\"Mejor score: {study_lr.best_value:.4f}\")\n",
    "print(f\"Mejores parámetros: {study_lr.best_params}\")\n"
   ]
  },
  {
   "cell_type": "code",
   "execution_count": null,
   "id": "e3a08270",
   "metadata": {},
   "outputs": [
    {
     "name": "stderr",
     "output_type": "stream",
     "text": [
      "[I 2025-09-17 18:53:18,346] A new study created in memory with name: no-name-5650732b-a65a-42d1-b5a6-e64fd7da69dc\n"
     ]
    },
    {
     "name": "stdout",
     "output_type": "stream",
     "text": [
      "🔍 Optimizando XGBoost...\n"
     ]
    },
    {
     "name": "stderr",
     "output_type": "stream",
     "text": [
      "[I 2025-09-17 18:53:19,919] Trial 0 finished with value: 0.6171428571428572 and parameters: {'n_estimators': 218, 'max_depth': 10, 'learning_rate': 0.1205712628744377, 'subsample': 0.8394633936788146, 'colsample_bytree': 0.6624074561769746, 'reg_alpha': 1.5599452033620265, 'reg_lambda': 0.5808361216819946}. Best is trial 0 with value: 0.6171428571428572.\n",
      "[I 2025-09-17 18:53:21,391] Trial 1 finished with value: 0.6914285714285715 and parameters: {'n_estimators': 440, 'max_depth': 7, 'learning_rate': 0.11114989443094977, 'subsample': 0.608233797718321, 'colsample_bytree': 0.9879639408647978, 'reg_alpha': 8.324426408004218, 'reg_lambda': 2.1233911067827616}. Best is trial 1 with value: 0.6914285714285715.\n",
      "[I 2025-09-17 18:53:21,957] Trial 2 finished with value: 0.6928571428571428 and parameters: {'n_estimators': 132, 'max_depth': 4, 'learning_rate': 0.028145092716060652, 'subsample': 0.8099025726528951, 'colsample_bytree': 0.7727780074568463, 'reg_alpha': 2.9122914019804194, 'reg_lambda': 6.118528947223795}. Best is trial 2 with value: 0.6928571428571428.\n",
      "[I 2025-09-17 18:53:22,538] Trial 3 finished with value: 0.6814285714285714 and parameters: {'n_estimators': 112, 'max_depth': 5, 'learning_rate': 0.03476649150592621, 'subsample': 0.7824279936868144, 'colsample_bytree': 0.9140703845572055, 'reg_alpha': 1.9967378215835974, 'reg_lambda': 5.142344384136116}. Best is trial 2 with value: 0.6928571428571428.\n",
      "[I 2025-09-17 18:53:23,504] Trial 4 finished with value: 0.6942857142857143 and parameters: {'n_estimators': 317, 'max_depth': 3, 'learning_rate': 0.07896186801026692, 'subsample': 0.6682096494749166, 'colsample_bytree': 0.6260206371941118, 'reg_alpha': 9.488855372533333, 'reg_lambda': 9.656320330745594}. Best is trial 4 with value: 0.6942857142857143.\n",
      "[I 2025-09-17 18:53:25,626] Trial 5 finished with value: 0.6742857142857142 and parameters: {'n_estimators': 414, 'max_depth': 5, 'learning_rate': 0.013940346079873234, 'subsample': 0.8736932106048627, 'colsample_bytree': 0.7760609974958406, 'reg_alpha': 1.2203823484477883, 'reg_lambda': 4.951769101112702}. Best is trial 4 with value: 0.6942857142857143.\n",
      "[I 2025-09-17 18:53:25,966] Trial 6 finished with value: 0.6814285714285714 and parameters: {'n_estimators': 65, 'max_depth': 10, 'learning_rate': 0.024112898115291985, 'subsample': 0.8650089137415928, 'colsample_bytree': 0.7246844304357644, 'reg_alpha': 5.200680211778108, 'reg_lambda': 5.4671027934327965}. Best is trial 4 with value: 0.6942857142857143.\n",
      "[I 2025-09-17 18:53:26,568] Trial 7 finished with value: 0.6857142857142856 and parameters: {'n_estimators': 133, 'max_depth': 10, 'learning_rate': 0.13962563737015762, 'subsample': 0.9757995766256756, 'colsample_bytree': 0.9579309401710595, 'reg_alpha': 5.978999788110851, 'reg_lambda': 9.218742350231167}. Best is trial 4 with value: 0.6942857142857143.\n",
      "[I 2025-09-17 18:53:26,963] Trial 8 finished with value: 0.6828571428571429 and parameters: {'n_estimators': 89, 'max_depth': 4, 'learning_rate': 0.011662890273931383, 'subsample': 0.7301321323053057, 'colsample_bytree': 0.7554709158757928, 'reg_alpha': 2.713490317738959, 'reg_lambda': 8.287375091519294}. Best is trial 4 with value: 0.6942857142857143.\n",
      "[I 2025-09-17 18:53:28,078] Trial 9 finished with value: 0.6614285714285714 and parameters: {'n_estimators': 210, 'max_depth': 5, 'learning_rate': 0.06333268775321843, 'subsample': 0.6563696899899051, 'colsample_bytree': 0.9208787923016158, 'reg_alpha': 0.7455064367977082, 'reg_lambda': 9.868869366005173}. Best is trial 4 with value: 0.6942857142857143.\n",
      "[I 2025-09-17 18:53:29,060] Trial 10 finished with value: 0.6914285714285715 and parameters: {'n_estimators': 338, 'max_depth': 7, 'learning_rate': 0.2704729722717776, 'subsample': 0.6998501323364757, 'colsample_bytree': 0.6058163500649457, 'reg_alpha': 9.076647952825176, 'reg_lambda': 7.303668952070094}. Best is trial 4 with value: 0.6942857142857143.\n",
      "[I 2025-09-17 18:53:30,161] Trial 11 finished with value: 0.6914285714285714 and parameters: {'n_estimators': 300, 'max_depth': 3, 'learning_rate': 0.0474334078540016, 'subsample': 0.7682135592710514, 'colsample_bytree': 0.8469817891972085, 'reg_alpha': 4.000687105937895, 'reg_lambda': 6.766913632504322}. Best is trial 4 with value: 0.6942857142857143.\n",
      "[I 2025-09-17 18:53:31,199] Trial 12 finished with value: 0.6957142857142857 and parameters: {'n_estimators': 360, 'max_depth': 3, 'learning_rate': 0.07027814475850294, 'subsample': 0.9107893620455169, 'colsample_bytree': 0.6820683811691458, 'reg_alpha': 7.410764754985978, 'reg_lambda': 3.669233811137739}. Best is trial 12 with value: 0.6957142857142857.\n",
      "[I 2025-09-17 18:53:32,261] Trial 13 finished with value: 0.6942857142857143 and parameters: {'n_estimators': 373, 'max_depth': 3, 'learning_rate': 0.06718751004793327, 'subsample': 0.9458139722963881, 'colsample_bytree': 0.6610457908057236, 'reg_alpha': 7.303998971713243, 'reg_lambda': 3.4279928826631645}. Best is trial 12 with value: 0.6957142857142857.\n",
      "[I 2025-09-17 18:53:33,596] Trial 14 finished with value: 0.6914285714285715 and parameters: {'n_estimators': 486, 'max_depth': 8, 'learning_rate': 0.19391489888468869, 'subsample': 0.929266168341982, 'colsample_bytree': 0.6102197979242173, 'reg_alpha': 9.97823323702009, 'reg_lambda': 3.311710261805287}. Best is trial 12 with value: 0.6957142857142857.\n",
      "[I 2025-09-17 18:53:34,487] Trial 15 finished with value: 0.6942857142857143 and parameters: {'n_estimators': 258, 'max_depth': 3, 'learning_rate': 0.09418115782760147, 'subsample': 0.9138052785782956, 'colsample_bytree': 0.693366324871209, 'reg_alpha': 7.41156617233502, 'reg_lambda': 3.5834388169760274}. Best is trial 12 with value: 0.6957142857142857.\n",
      "[I 2025-09-17 18:53:35,782] Trial 16 finished with value: 0.6971428571428572 and parameters: {'n_estimators': 336, 'max_depth': 4, 'learning_rate': 0.04657370744630154, 'subsample': 0.6669168047143579, 'colsample_bytree': 0.8358394007383037, 'reg_alpha': 6.555403087846318, 'reg_lambda': 0.10989189243771236}. Best is trial 16 with value: 0.6971428571428572.\n",
      "[I 2025-09-17 18:53:37,057] Trial 17 finished with value: 0.6942857142857143 and parameters: {'n_estimators': 380, 'max_depth': 6, 'learning_rate': 0.04605153928730008, 'subsample': 0.9993428140936234, 'colsample_bytree': 0.8330043528976134, 'reg_alpha': 6.5780108102649955, 'reg_lambda': 0.17637316143623316}. Best is trial 16 with value: 0.6971428571428572.\n",
      "[I 2025-09-17 18:53:38,175] Trial 18 finished with value: 0.7 and parameters: {'n_estimators': 257, 'max_depth': 4, 'learning_rate': 0.017850705608912134, 'subsample': 0.6092030169918545, 'colsample_bytree': 0.8628581217310244, 'reg_alpha': 5.380207326883078, 'reg_lambda': 1.3312919281685776}. Best is trial 18 with value: 0.7.\n",
      "[I 2025-09-17 18:53:39,489] Trial 19 finished with value: 0.6914285714285715 and parameters: {'n_estimators': 255, 'max_depth': 6, 'learning_rate': 0.017479588975054496, 'subsample': 0.6216154912338012, 'colsample_bytree': 0.8557146184212102, 'reg_alpha': 4.360998335722802, 'reg_lambda': 1.2830895594786067}. Best is trial 18 with value: 0.7.\n",
      "[I 2025-09-17 18:53:40,395] Trial 20 finished with value: 0.6957142857142857 and parameters: {'n_estimators': 187, 'max_depth': 4, 'learning_rate': 0.0192031277405878, 'subsample': 0.7327726551839018, 'colsample_bytree': 0.8899556909258698, 'reg_alpha': 6.110666346568938, 'reg_lambda': 1.8278484555723913}. Best is trial 18 with value: 0.7.\n",
      "[I 2025-09-17 18:53:41,875] Trial 21 finished with value: 0.6957142857142857 and parameters: {'n_estimators': 349, 'max_depth': 4, 'learning_rate': 0.03695595364089994, 'subsample': 0.6652541277159898, 'colsample_bytree': 0.80282203762119, 'reg_alpha': 7.794282023116786, 'reg_lambda': 2.4571876894275864}. Best is trial 18 with value: 0.7.\n",
      "[I 2025-09-17 18:53:43,146] Trial 22 finished with value: 0.6842857142857142 and parameters: {'n_estimators': 288, 'max_depth': 5, 'learning_rate': 0.05427949486822981, 'subsample': 0.6310291708551165, 'colsample_bytree': 0.8142465796489733, 'reg_alpha': 5.153620086993195, 'reg_lambda': 0.8538536897036435}. Best is trial 18 with value: 0.7.\n",
      "[I 2025-09-17 18:53:44,903] Trial 23 finished with value: 0.7 and parameters: {'n_estimators': 416, 'max_depth': 4, 'learning_rate': 0.010135663952935534, 'subsample': 0.7083492581226283, 'colsample_bytree': 0.886771887267753, 'reg_alpha': 6.618449170970667, 'reg_lambda': 0.11620961627553239}. Best is trial 18 with value: 0.7.\n",
      "[I 2025-09-17 18:53:46,674] Trial 24 finished with value: 0.6985714285714286 and parameters: {'n_estimators': 437, 'max_depth': 4, 'learning_rate': 0.011569046886474444, 'subsample': 0.6994347093531768, 'colsample_bytree': 0.8891075368703283, 'reg_alpha': 6.3861014971099, 'reg_lambda': 0.2548021457516787}. Best is trial 18 with value: 0.7.\n",
      "[I 2025-09-17 18:53:49,087] Trial 25 finished with value: 0.6885714285714286 and parameters: {'n_estimators': 484, 'max_depth': 6, 'learning_rate': 0.010215980197237408, 'subsample': 0.7055630850015672, 'colsample_bytree': 0.8812461056997818, 'reg_alpha': 4.204760318127347, 'reg_lambda': 1.3964455551216666}. Best is trial 18 with value: 0.7.\n",
      "[I 2025-09-17 18:53:51,093] Trial 26 finished with value: 0.6942857142857143 and parameters: {'n_estimators': 416, 'max_depth': 8, 'learning_rate': 0.015766116624968962, 'subsample': 0.7451847033000834, 'colsample_bytree': 0.9450588707370329, 'reg_alpha': 5.699054756297403, 'reg_lambda': 1.1020300686292863}. Best is trial 18 with value: 0.7.\n",
      "[I 2025-09-17 18:53:53,072] Trial 27 finished with value: 0.6971428571428572 and parameters: {'n_estimators': 447, 'max_depth': 5, 'learning_rate': 0.012363033049047333, 'subsample': 0.6967284470501964, 'colsample_bytree': 0.8806760800743624, 'reg_alpha': 6.666337368142439, 'reg_lambda': 2.6427601493303436}. Best is trial 18 with value: 0.7.\n",
      "[I 2025-09-17 18:53:53,794] Trial 28 finished with value: 0.69 and parameters: {'n_estimators': 169, 'max_depth': 4, 'learning_rate': 0.02029645898092406, 'subsample': 0.6458386656134175, 'colsample_bytree': 0.9916835529678847, 'reg_alpha': 3.343348826836589, 'reg_lambda': 0.1093812809163652}. Best is trial 18 with value: 0.7.\n",
      "[I 2025-09-17 18:53:55,864] Trial 29 finished with value: 0.6957142857142857 and parameters: {'n_estimators': 401, 'max_depth': 9, 'learning_rate': 0.010217261032715358, 'subsample': 0.6020777676181787, 'colsample_bytree': 0.9121681623159326, 'reg_alpha': 8.330160586229267, 'reg_lambda': 0.6400550970584502}. Best is trial 18 with value: 0.7.\n",
      "[I 2025-09-17 18:53:57,620] Trial 30 finished with value: 0.6328571428571428 and parameters: {'n_estimators': 237, 'max_depth': 6, 'learning_rate': 0.02325425587019857, 'subsample': 0.793938852422954, 'colsample_bytree': 0.9440163417454057, 'reg_alpha': 0.0026211230471320235, 'reg_lambda': 1.575045141596106}. Best is trial 18 with value: 0.7.\n",
      "[I 2025-09-17 18:53:59,425] Trial 31 finished with value: 0.7014285714285714 and parameters: {'n_estimators': 441, 'max_depth': 4, 'learning_rate': 0.014553644530271225, 'subsample': 0.6763902142904747, 'colsample_bytree': 0.8600208460877431, 'reg_alpha': 6.705409839629585, 'reg_lambda': 0.0545368822580426}. Best is trial 31 with value: 0.7014285714285714.\n",
      "[I 2025-09-17 18:54:01,484] Trial 32 finished with value: 0.6942857142857143 and parameters: {'n_estimators': 480, 'max_depth': 4, 'learning_rate': 0.015010079212781365, 'subsample': 0.6886040104736997, 'colsample_bytree': 0.8607358496789551, 'reg_alpha': 5.4491085452465216, 'reg_lambda': 0.8300057786735896}. Best is trial 31 with value: 0.7014285714285714.\n",
      "[I 2025-09-17 18:54:03,646] Trial 33 finished with value: 0.6971428571428572 and parameters: {'n_estimators': 451, 'max_depth': 5, 'learning_rate': 0.01313942477119836, 'subsample': 0.6368562068272814, 'colsample_bytree': 0.8987944845082577, 'reg_alpha': 4.571091340412783, 'reg_lambda': 2.206999296945662}. Best is trial 31 with value: 0.7014285714285714.\n",
      "[I 2025-09-17 18:54:05,418] Trial 34 finished with value: 0.6985714285714286 and parameters: {'n_estimators': 457, 'max_depth': 4, 'learning_rate': 0.0300121424233423, 'subsample': 0.757173857216114, 'colsample_bytree': 0.8629062149836892, 'reg_alpha': 8.408610488699749, 'reg_lambda': 0.5336895913687862}. Best is trial 31 with value: 0.7014285714285714.\n",
      "[I 2025-09-17 18:54:06,920] Trial 35 finished with value: 0.6971428571428572 and parameters: {'n_estimators': 391, 'max_depth': 3, 'learning_rate': 0.010159998429030597, 'subsample': 0.7153111694583427, 'colsample_bytree': 0.820964036197493, 'reg_alpha': 6.7121196529745495, 'reg_lambda': 4.364054553485712}. Best is trial 31 with value: 0.7014285714285714.\n",
      "[I 2025-09-17 18:54:08,300] Trial 36 finished with value: 0.6942857142857143 and parameters: {'n_estimators': 311, 'max_depth': 5, 'learning_rate': 0.01564346137757494, 'subsample': 0.8206375789034319, 'colsample_bytree': 0.7797925754815086, 'reg_alpha': 5.983292724702872, 'reg_lambda': 2.7094968348754707}. Best is trial 31 with value: 0.7014285714285714.\n",
      "[I 2025-09-17 18:54:09,911] Trial 37 finished with value: 0.6928571428571428 and parameters: {'n_estimators': 423, 'max_depth': 3, 'learning_rate': 0.022231542885454005, 'subsample': 0.6790542604708111, 'colsample_bytree': 0.9607801269028864, 'reg_alpha': 4.65859996672967, 'reg_lambda': 1.9602024749137215}. Best is trial 31 with value: 0.7014285714285714.\n",
      "[I 2025-09-17 18:54:11,705] Trial 38 finished with value: 0.6957142857142857 and parameters: {'n_estimators': 434, 'max_depth': 5, 'learning_rate': 0.02572657599467993, 'subsample': 0.612845883789404, 'colsample_bytree': 0.9311967303355536, 'reg_alpha': 6.867608019375684, 'reg_lambda': 0.020647122502214538}. Best is trial 31 with value: 0.7014285714285714.\n",
      "[I 2025-09-17 18:54:13,760] Trial 39 finished with value: 0.6957142857142857 and parameters: {'n_estimators': 500, 'max_depth': 4, 'learning_rate': 0.01254757692903582, 'subsample': 0.64600789544468, 'colsample_bytree': 0.8719530518124802, 'reg_alpha': 7.7826038128095245, 'reg_lambda': 0.6467835306111227}. Best is trial 31 with value: 0.7014285714285714.\n",
      "[I 2025-09-17 18:54:15,150] Trial 40 finished with value: 0.6857142857142856 and parameters: {'n_estimators': 272, 'max_depth': 7, 'learning_rate': 0.01782288007598043, 'subsample': 0.7190948138404434, 'colsample_bytree': 0.7547987714886972, 'reg_alpha': 3.2504302140919488, 'reg_lambda': 1.268166104219138}. Best is trial 31 with value: 0.7014285714285714.\n",
      "[I 2025-09-17 18:54:16,814] Trial 41 finished with value: 0.7 and parameters: {'n_estimators': 460, 'max_depth': 4, 'learning_rate': 0.031234355668094016, 'subsample': 0.757962244585458, 'colsample_bytree': 0.8587441578963511, 'reg_alpha': 8.760536111580649, 'reg_lambda': 0.4022696887137818}. Best is trial 31 with value: 0.7014285714285714.\n",
      "[I 2025-09-17 18:54:18,473] Trial 42 finished with value: 0.6971428571428572 and parameters: {'n_estimators': 465, 'max_depth': 4, 'learning_rate': 0.031932391234777854, 'subsample': 0.7660505166949687, 'colsample_bytree': 0.8979829135928538, 'reg_alpha': 8.702959666572125, 'reg_lambda': 0.5275600840314194}. Best is trial 31 with value: 0.7014285714285714.\n",
      "[I 2025-09-17 18:54:19,838] Trial 43 finished with value: 0.6971428571428572 and parameters: {'n_estimators': 409, 'max_depth': 4, 'learning_rate': 0.037448135377930375, 'subsample': 0.7441746111189241, 'colsample_bytree': 0.8413418930694393, 'reg_alpha': 9.16532869566244, 'reg_lambda': 1.7057728415549298}. Best is trial 31 with value: 0.7014285714285714.\n",
      "[I 2025-09-17 18:54:21,946] Trial 44 finished with value: 0.6900000000000001 and parameters: {'n_estimators': 475, 'max_depth': 5, 'learning_rate': 0.014048656877662035, 'subsample': 0.80732867972452, 'colsample_bytree': 0.9126274300551293, 'reg_alpha': 5.014365076325274, 'reg_lambda': 1.0264595866199504}. Best is trial 31 with value: 0.7014285714285714.\n",
      "[I 2025-09-17 18:54:23,684] Trial 45 finished with value: 0.6942857142857143 and parameters: {'n_estimators': 445, 'max_depth': 3, 'learning_rate': 0.011542311869477783, 'subsample': 0.84014737948045, 'colsample_bytree': 0.9701853792800095, 'reg_alpha': 6.2687508185385585, 'reg_lambda': 0.3924993138789981}. Best is trial 31 with value: 0.7014285714285714.\n",
      "[I 2025-09-17 18:54:25,435] Trial 46 finished with value: 0.6957142857142857 and parameters: {'n_estimators': 435, 'max_depth': 4, 'learning_rate': 0.02026967055353257, 'subsample': 0.7835065648422402, 'colsample_bytree': 0.7904786709165735, 'reg_alpha': 5.553257259871995, 'reg_lambda': 5.702496068170419}. Best is trial 31 with value: 0.7014285714285714.\n",
      "[I 2025-09-17 18:54:26,794] Trial 47 finished with value: 0.7 and parameters: {'n_estimators': 369, 'max_depth': 3, 'learning_rate': 0.016481002343904764, 'subsample': 0.6836222809741603, 'colsample_bytree': 0.8209511603279545, 'reg_alpha': 7.7710369983755605, 'reg_lambda': 0.9707577187797716}. Best is trial 31 with value: 0.7014285714285714.\n",
      "[I 2025-09-17 18:54:27,996] Trial 48 finished with value: 0.6942857142857143 and parameters: {'n_estimators': 330, 'max_depth': 3, 'learning_rate': 0.025546890640277587, 'subsample': 0.6789803188990025, 'colsample_bytree': 0.7535158040825064, 'reg_alpha': 7.868716049102285, 'reg_lambda': 2.088177004756908}. Best is trial 31 with value: 0.7014285714285714.\n",
      "[I 2025-09-17 18:54:29,411] Trial 49 finished with value: 0.6971428571428572 and parameters: {'n_estimators': 370, 'max_depth': 3, 'learning_rate': 0.016983230059779524, 'subsample': 0.726928058328565, 'colsample_bytree': 0.8067568498327956, 'reg_alpha': 7.070847008393684, 'reg_lambda': 3.011819443205032}. Best is trial 31 with value: 0.7014285714285714.\n"
     ]
    },
    {
     "name": "stdout",
     "output_type": "stream",
     "text": [
      "Mejor score: 0.7014\n",
      "Mejores parámetros: {'n_estimators': 441, 'max_depth': 4, 'learning_rate': 0.014553644530271225, 'subsample': 0.6763902142904747, 'colsample_bytree': 0.8600208460877431, 'reg_alpha': 6.705409839629585, 'reg_lambda': 0.0545368822580426}\n"
     ]
    }
   ],
   "source": [
    "# Función objetivo para XGBoost (optimizada para hardware potente)\n",
    "def objective_xgb(trial):\n",
    "    # Definir el espacio de búsqueda de hiperparámetros (ampliado para mejor hardware)\n",
    "    params = {\n",
    "        'n_estimators': trial.suggest_int('n_estimators', 100, 1000),  # Más árboles\n",
    "        'max_depth': trial.suggest_int('max_depth', 3, 15),            # Mayor profundidad\n",
    "        'learning_rate': trial.suggest_float('learning_rate', 0.005, 0.3, log=True),\n",
    "        'subsample': trial.suggest_float('subsample', 0.6, 1.0),\n",
    "        'colsample_bytree': trial.suggest_float('colsample_bytree', 0.6, 1.0),\n",
    "        'colsample_bylevel': trial.suggest_float('colsample_bylevel', 0.6, 1.0),\n",
    "        'reg_alpha': trial.suggest_float('reg_alpha', 0, 20),\n",
    "        'reg_lambda': trial.suggest_float('reg_lambda', 0, 20),\n",
    "        'min_child_weight': trial.suggest_int('min_child_weight', 1, 10),\n",
    "        'gamma': trial.suggest_float('gamma', 0, 5),\n",
    "        'random_state': 42,\n",
    "        'eval_metric': 'logloss'\n",
    "    }\n",
    "    \n",
    "    # Usar GPU si está disponible\n",
    "    if GPU_AVAILABLE:\n",
    "        params.update({\n",
    "            'tree_method': 'gpu_hist',\n",
    "            'gpu_id': 0,\n",
    "            'predictor': 'gpu_predictor'\n",
    "        })\n",
    "    else:\n",
    "        params['tree_method'] = 'hist'  # CPU optimizado\n",
    "    \n",
    "    # Crear y entrenar el modelo\n",
    "    model = xgb.XGBClassifier(**params)\n",
    "    \n",
    "    # Validación cruzada con manejo de errores\n",
    "    try:\n",
    "        scores = cross_val_score(model, X_train, y_train, cv=5, scoring='accuracy', n_jobs=-1)\n",
    "        return scores.mean()\n",
    "    except Exception as e:\n",
    "        # Si hay error, retornar un score muy bajo para que Optuna evite esta combinación\n",
    "        return 0.0\n",
    "\n",
    "# Función para crear modelo XGBoost optimizado\n",
    "def create_optimized_xgb_model(best_params):\n",
    "    \"\"\"Crea un modelo XGBoost con los parámetros optimizados\"\"\"\n",
    "    params = best_params.copy()\n",
    "    params['random_state'] = 42\n",
    "    params['eval_metric'] = 'logloss'\n",
    "    return xgb.XGBClassifier(**params)\n",
    "\n",
    "# Optimización para XGBoost\n",
    "print(\"🔍 Optimizando XGBoost...\")\n",
    "study_xgb = optuna.create_study(direction='maximize', sampler=TPESampler(seed=42))\n",
    "study_xgb.optimize(objective_xgb, n_trials=50)\n",
    "\n",
    "print(f\"Mejor score: {study_xgb.best_value:.4f}\")\n",
    "print(f\"Mejores parámetros: {study_xgb.best_params}\")\n"
   ]
  },
  {
   "cell_type": "code",
   "execution_count": null,
   "id": "dceea63d",
   "metadata": {},
   "outputs": [],
   "source": [
    "# Optimización para Regresión Logística (optimizada para hardware potente)\n",
    "print(\"🔍 Optimizando Regresión Logística...\")\n",
    "study_lr = optuna.create_study(direction='maximize', sampler=TPESampler(seed=42))\n",
    "study_lr.optimize(objective_lr, n_trials=200, n_jobs=-1)  # Más trials + paralelización\n",
    "\n",
    "print(f\"Mejor score: {study_lr.best_value:.4f}\")\n",
    "print(f\"Mejores parámetros: {study_lr.best_params}\")\n"
   ]
  },
  {
   "cell_type": "code",
   "execution_count": null,
   "id": "7dd0e49f",
   "metadata": {},
   "outputs": [],
   "source": [
    "# Optimización para XGBoost (optimizada para hardware potente)\n",
    "print(\"🔍 Optimizando XGBoost...\")\n",
    "study_xgb = optuna.create_study(direction='maximize', sampler=TPESampler(seed=42))\n",
    "study_xgb.optimize(objective_xgb, n_trials=200, n_jobs=-1)  # Más trials + paralelización\n",
    "\n",
    "print(f\"Mejor score: {study_xgb.best_value:.4f}\")\n",
    "print(f\"Mejores parámetros: {study_xgb.best_params}\")\n"
   ]
  },
  {
   "cell_type": "markdown",
   "id": "0437627f",
   "metadata": {},
   "source": [
    "## 7. Modelos Optimizados\n",
    "\n",
    "Ahora entrenamos los modelos con los mejores hiperparámetros encontrados.\n"
   ]
  },
  {
   "cell_type": "code",
   "execution_count": null,
   "id": "7d4e9ec5",
   "metadata": {},
   "outputs": [
    {
     "ename": "TypeError",
     "evalue": "LogisticRegression.__init__() got an unexpected keyword argument 'solver_l2'",
     "output_type": "error",
     "traceback": [
      "\u001b[1;31m---------------------------------------------------------------------------\u001b[0m",
      "\u001b[1;31mTypeError\u001b[0m                                 Traceback (most recent call last)",
      "Cell \u001b[1;32mIn[15], line 2\u001b[0m\n\u001b[0;32m      1\u001b[0m \u001b[38;5;66;03m# Entrenar Regresión Logística optimizada\u001b[39;00m\n\u001b[1;32m----> 2\u001b[0m lr_optimized \u001b[38;5;241m=\u001b[39m LogisticRegression(\u001b[38;5;241m*\u001b[39m\u001b[38;5;241m*\u001b[39mstudy_lr\u001b[38;5;241m.\u001b[39mbest_params, random_state\u001b[38;5;241m=\u001b[39m\u001b[38;5;241m42\u001b[39m)\n\u001b[0;32m      3\u001b[0m lr_optimized\u001b[38;5;241m.\u001b[39mfit(X_train, y_train)\n\u001b[0;32m      4\u001b[0m y_pred_lr_opt \u001b[38;5;241m=\u001b[39m lr_optimized\u001b[38;5;241m.\u001b[39mpredict(X_test)\n",
      "\u001b[1;31mTypeError\u001b[0m: LogisticRegression.__init__() got an unexpected keyword argument 'solver_l2'"
     ]
    }
   ],
   "source": [
    "# Entrenar Regresión Logística optimizada\n",
    "lr_optimized = create_optimized_lr_model(study_lr.best_params)\n",
    "lr_optimized.fit(X_train, y_train)\n",
    "y_pred_lr_opt = lr_optimized.predict(X_test)\n",
    "\n",
    "print(\"📊 Regresión Logística Optimizada:\")\n",
    "print(classification_report(y_test, y_pred_lr_opt))\n",
    "print(f\"Accuracy: {accuracy_score(y_test, y_pred_lr_opt):.4f}\")\n",
    "print(f\"Parámetros utilizados: {lr_optimized.get_params()}\")\n"
   ]
  },
  {
   "cell_type": "code",
   "execution_count": null,
   "id": "9e382395",
   "metadata": {},
   "outputs": [],
   "source": [
    "# Entrenar XGBoost optimizado\n",
    "xgb_optimized = create_optimized_xgb_model(study_xgb.best_params)\n",
    "xgb_optimized.fit(X_train, y_train)\n",
    "y_pred_xgb_opt = xgb_optimized.predict(X_test)\n",
    "\n",
    "print(\"📊 XGBoost Optimizado:\")\n",
    "print(classification_report(y_test, y_pred_xgb_opt))\n",
    "print(f\"Accuracy: {accuracy_score(y_test, y_pred_xgb_opt):.4f}\")\n",
    "print(f\"Parámetros utilizados: {xgb_optimized.get_params()}\")\n"
   ]
  },
  {
   "cell_type": "markdown",
   "id": "b039baae",
   "metadata": {},
   "source": [
    "## 8. Comparación de Resultados\n",
    "\n",
    "Comparemos el rendimiento antes y después de la optimización.\n"
   ]
  },
  {
   "cell_type": "code",
   "execution_count": null,
   "id": "9e005d0c",
   "metadata": {},
   "outputs": [],
   "source": [
    "# Comparación de accuracy\n",
    "results_comparison = pd.DataFrame({\n",
    "    'Modelo': ['Regresión Logística Original', 'Regresión Logística Optimizada', \n",
    "               'XGBoost Original', 'XGBoost Optimizado'],\n",
    "    'Accuracy': [\n",
    "        accuracy_score(y_test, y_pred_lr),\n",
    "        accuracy_score(y_test, y_pred_lr_opt),\n",
    "        accuracy_score(y_test, y_pred_xgb),\n",
    "        accuracy_score(y_test, y_pred_xgb_opt)\n",
    "    ]\n",
    "})\n",
    "\n",
    "print(\"📈 Comparación de Resultados:\")\n",
    "print(results_comparison)\n",
    "\n",
    "# Visualización de la comparación\n",
    "plt.figure(figsize=(10, 6))\n",
    "plt.subplot(1, 2, 1)\n",
    "plt.bar(results_comparison['Modelo'], results_comparison['Accuracy'])\n",
    "plt.title('Comparación de Accuracy')\n",
    "plt.ylabel('Accuracy')\n",
    "plt.xticks(rotation=45, ha='right')\n",
    "plt.ylim(0.5, 0.8)\n",
    "\n",
    "# Mejora en accuracy\n",
    "improvements = [\n",
    "    results_comparison.iloc[1, 1] - results_comparison.iloc[0, 1],  # LR improvement\n",
    "    results_comparison.iloc[3, 1] - results_comparison.iloc[2, 1]   # XGB improvement\n",
    "]\n",
    "\n",
    "plt.subplot(1, 2, 2)\n",
    "plt.bar(['Regresión Logística', 'XGBoost'], improvements, color=['blue', 'green'])\n",
    "plt.title('Mejora en Accuracy')\n",
    "plt.ylabel('Mejora')\n",
    "plt.axhline(y=0, color='red', linestyle='--', alpha=0.7)\n",
    "\n",
    "plt.tight_layout()\n",
    "plt.show()\n",
    "\n",
    "print(f\"\\n🎯 Mejoras obtenidas:\")\n",
    "print(f\"Regresión Logística: +{improvements[0]:.4f} ({improvements[0]*100:.2f}%)\")\n",
    "print(f\"XGBoost: +{improvements[1]:.4f} ({improvements[1]*100:.2f}%)\")\n"
   ]
  },
  {
   "cell_type": "markdown",
   "id": "a601339a",
   "metadata": {},
   "source": [
    "## 9. Visualización de la Optimización\n",
    "\n",
    "Veamos cómo evolucionó la optimización para cada modelo.\n"
   ]
  },
  {
   "cell_type": "code",
   "execution_count": null,
   "id": "81367cd5",
   "metadata": {},
   "outputs": [],
   "source": [
    "# Visualización de la evolución de la optimización\n",
    "fig, (ax1, ax2) = plt.subplots(1, 2, figsize=(15, 5))\n",
    "\n",
    "# Regresión Logística\n",
    "trials_lr = [t.value for t in study_lr.trials if t.value is not None]\n",
    "ax1.plot(trials_lr, 'b-', alpha=0.7)\n",
    "ax1.axhline(y=study_lr.best_value, color='red', linestyle='--', label=f'Mejor: {study_lr.best_value:.4f}')\n",
    "ax1.set_title('Optimización Regresión Logística')\n",
    "ax1.set_xlabel('Trial')\n",
    "ax1.set_ylabel('Accuracy')\n",
    "ax1.legend()\n",
    "ax1.grid(True, alpha=0.3)\n",
    "\n",
    "# XGBoost\n",
    "trials_xgb = [t.value for t in study_xgb.trials if t.value is not None]\n",
    "ax2.plot(trials_xgb, 'g-', alpha=0.7)\n",
    "ax2.axhline(y=study_xgb.best_value, color='red', linestyle='--', label=f'Mejor: {study_xgb.best_value:.4f}')\n",
    "ax2.set_title('Optimización XGBoost')\n",
    "ax2.set_xlabel('Trial')\n",
    "ax2.set_ylabel('Accuracy')\n",
    "ax2.legend()\n",
    "ax2.grid(True, alpha=0.3)\n",
    "\n",
    "plt.tight_layout()\n",
    "plt.show()\n",
    "\n",
    "# Mostrar importancia de hiperparámetros\n",
    "print(\"🔍 Importancia de hiperparámetros:\")\n",
    "print(\"\\nRegresión Logística:\")\n",
    "for param, importance in optuna.importance.get_param_importances(study_lr).items():\n",
    "    print(f\"  {param}: {importance:.4f}\")\n",
    "\n",
    "print(\"\\nXGBoost:\")\n",
    "for param, importance in optuna.importance.get_param_importances(study_xgb).items():\n",
    "    print(f\"  {param}: {importance:.4f}\")\n"
   ]
  },
  {
   "cell_type": "markdown",
   "metadata": {},
   "source": [
    "## 10. Comentarios finales\n",
    "\n",
    "### ✅ Optimización Bayesiana Implementada\n",
    "\n",
    "- **Optuna** se utilizó para optimización bayesiana de hiperparámetros\n",
    "- **50 trials** por modelo para encontrar la mejor configuración\n",
    "- **Validación cruzada** (5-fold) para evaluación robusta\n",
    "- **TPE Sampler** para búsqueda eficiente del espacio de parámetros\n",
    "\n",
    "### 🎯 Beneficios obtenidos:\n",
    "\n",
    "1. **Mejora automática** del rendimiento de los modelos\n",
    "2. **Identificación** de hiperparámetros más importantes\n",
    "3. **Visualización** del proceso de optimización\n",
    "4. **Comparación** clara entre modelos originales y optimizados\n",
    "\n",
    "### 📈 Próximos pasos recomendados:\n",
    "\n",
    "- Aumentar el número de trials (n_trials=100-200) para mayor precisión\n",
    "- Probar otros algoritmos (Random Forest, SVM, Neural Networks)\n",
    "- Implementar ensemble methods con los mejores modelos\n",
    "- Usar métricas específicas del negocio (precision, recall, F1-score)\n",
    "- Validar con datos reales de tu institución bancaria"
   ]
  }
 ],
 "metadata": {
  "kernelspec": {
   "display_name": "Python 3",
   "language": "python",
   "name": "python3"
  },
  "language_info": {
   "codemirror_mode": {
    "name": "ipython",
    "version": 3
   },
   "file_extension": ".py",
   "mimetype": "text/x-python",
   "name": "python",
   "nbconvert_exporter": "python",
   "pygments_lexer": "ipython3",
   "version": "3.10.10"
  }
 },
 "nbformat": 4,
 "nbformat_minor": 5
}
